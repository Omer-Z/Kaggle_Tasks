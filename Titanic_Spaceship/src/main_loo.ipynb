{
 "cells": [
  {
   "cell_type": "code",
   "execution_count": 43,
   "metadata": {},
   "outputs": [],
   "source": [
    "import pandas as pd\n",
    "import numpy as np\n",
    "from typing import List, Tuple, Dict"
   ]
  },
  {
   "cell_type": "code",
   "execution_count": 44,
   "metadata": {},
   "outputs": [],
   "source": [
    "import torch\n",
    "from torch import nn\n",
    "from torchmetrics import Accuracy"
   ]
  },
  {
   "cell_type": "code",
   "execution_count": 45,
   "metadata": {},
   "outputs": [],
   "source": [
    "from sklearn.impute import SimpleImputer\n",
    "from sklearn.preprocessing import OneHotEncoder\n",
    "from sklearn.compose import ColumnTransformer"
   ]
  },
  {
   "cell_type": "code",
   "execution_count": 46,
   "metadata": {},
   "outputs": [],
   "source": [
    "import category_encoders as ce"
   ]
  },
  {
   "cell_type": "code",
   "execution_count": 47,
   "metadata": {},
   "outputs": [],
   "source": [
    "device = \"cuda\" if torch.cuda.is_available() else \"cpu\""
   ]
  },
  {
   "cell_type": "code",
   "execution_count": 48,
   "metadata": {},
   "outputs": [
    {
     "data": {
      "text/plain": [
       "<torch._C.Generator at 0x1a08047ebd0>"
      ]
     },
     "execution_count": 48,
     "metadata": {},
     "output_type": "execute_result"
    }
   ],
   "source": [
    "torch.manual_seed(101)"
   ]
  },
  {
   "cell_type": "markdown",
   "metadata": {},
   "source": [
    "# Train Data"
   ]
  },
  {
   "cell_type": "code",
   "execution_count": 49,
   "metadata": {},
   "outputs": [
    {
     "data": {
      "text/html": [
       "<div>\n",
       "<style scoped>\n",
       "    .dataframe tbody tr th:only-of-type {\n",
       "        vertical-align: middle;\n",
       "    }\n",
       "\n",
       "    .dataframe tbody tr th {\n",
       "        vertical-align: top;\n",
       "    }\n",
       "\n",
       "    .dataframe thead th {\n",
       "        text-align: right;\n",
       "    }\n",
       "</style>\n",
       "<table border=\"1\" class=\"dataframe\">\n",
       "  <thead>\n",
       "    <tr style=\"text-align: right;\">\n",
       "      <th></th>\n",
       "      <th>HomePlanet</th>\n",
       "      <th>CryoSleep</th>\n",
       "      <th>Cabin</th>\n",
       "      <th>Destination</th>\n",
       "      <th>Age</th>\n",
       "      <th>VIP</th>\n",
       "      <th>RoomService</th>\n",
       "      <th>FoodCourt</th>\n",
       "      <th>ShoppingMall</th>\n",
       "      <th>Spa</th>\n",
       "      <th>VRDeck</th>\n",
       "      <th>Name</th>\n",
       "      <th>Transported</th>\n",
       "    </tr>\n",
       "    <tr>\n",
       "      <th>PassengerId</th>\n",
       "      <th></th>\n",
       "      <th></th>\n",
       "      <th></th>\n",
       "      <th></th>\n",
       "      <th></th>\n",
       "      <th></th>\n",
       "      <th></th>\n",
       "      <th></th>\n",
       "      <th></th>\n",
       "      <th></th>\n",
       "      <th></th>\n",
       "      <th></th>\n",
       "      <th></th>\n",
       "    </tr>\n",
       "  </thead>\n",
       "  <tbody>\n",
       "    <tr>\n",
       "      <th>0001_01</th>\n",
       "      <td>Europa</td>\n",
       "      <td>False</td>\n",
       "      <td>B/0/P</td>\n",
       "      <td>TRAPPIST-1e</td>\n",
       "      <td>39.0</td>\n",
       "      <td>False</td>\n",
       "      <td>0.0</td>\n",
       "      <td>0.0</td>\n",
       "      <td>0.0</td>\n",
       "      <td>0.0</td>\n",
       "      <td>0.0</td>\n",
       "      <td>Maham Ofracculy</td>\n",
       "      <td>False</td>\n",
       "    </tr>\n",
       "    <tr>\n",
       "      <th>0002_01</th>\n",
       "      <td>Earth</td>\n",
       "      <td>False</td>\n",
       "      <td>F/0/S</td>\n",
       "      <td>TRAPPIST-1e</td>\n",
       "      <td>24.0</td>\n",
       "      <td>False</td>\n",
       "      <td>109.0</td>\n",
       "      <td>9.0</td>\n",
       "      <td>25.0</td>\n",
       "      <td>549.0</td>\n",
       "      <td>44.0</td>\n",
       "      <td>Juanna Vines</td>\n",
       "      <td>True</td>\n",
       "    </tr>\n",
       "    <tr>\n",
       "      <th>0003_01</th>\n",
       "      <td>Europa</td>\n",
       "      <td>False</td>\n",
       "      <td>A/0/S</td>\n",
       "      <td>TRAPPIST-1e</td>\n",
       "      <td>58.0</td>\n",
       "      <td>True</td>\n",
       "      <td>43.0</td>\n",
       "      <td>3576.0</td>\n",
       "      <td>0.0</td>\n",
       "      <td>6715.0</td>\n",
       "      <td>49.0</td>\n",
       "      <td>Altark Susent</td>\n",
       "      <td>False</td>\n",
       "    </tr>\n",
       "    <tr>\n",
       "      <th>0003_02</th>\n",
       "      <td>Europa</td>\n",
       "      <td>False</td>\n",
       "      <td>A/0/S</td>\n",
       "      <td>TRAPPIST-1e</td>\n",
       "      <td>33.0</td>\n",
       "      <td>False</td>\n",
       "      <td>0.0</td>\n",
       "      <td>1283.0</td>\n",
       "      <td>371.0</td>\n",
       "      <td>3329.0</td>\n",
       "      <td>193.0</td>\n",
       "      <td>Solam Susent</td>\n",
       "      <td>False</td>\n",
       "    </tr>\n",
       "    <tr>\n",
       "      <th>0004_01</th>\n",
       "      <td>Earth</td>\n",
       "      <td>False</td>\n",
       "      <td>F/1/S</td>\n",
       "      <td>TRAPPIST-1e</td>\n",
       "      <td>16.0</td>\n",
       "      <td>False</td>\n",
       "      <td>303.0</td>\n",
       "      <td>70.0</td>\n",
       "      <td>151.0</td>\n",
       "      <td>565.0</td>\n",
       "      <td>2.0</td>\n",
       "      <td>Willy Santantines</td>\n",
       "      <td>True</td>\n",
       "    </tr>\n",
       "  </tbody>\n",
       "</table>\n",
       "</div>"
      ],
      "text/plain": [
       "            HomePlanet CryoSleep  Cabin  Destination   Age    VIP  \\\n",
       "PassengerId                                                         \n",
       "0001_01         Europa     False  B/0/P  TRAPPIST-1e  39.0  False   \n",
       "0002_01          Earth     False  F/0/S  TRAPPIST-1e  24.0  False   \n",
       "0003_01         Europa     False  A/0/S  TRAPPIST-1e  58.0   True   \n",
       "0003_02         Europa     False  A/0/S  TRAPPIST-1e  33.0  False   \n",
       "0004_01          Earth     False  F/1/S  TRAPPIST-1e  16.0  False   \n",
       "\n",
       "             RoomService  FoodCourt  ShoppingMall     Spa  VRDeck  \\\n",
       "PassengerId                                                         \n",
       "0001_01              0.0        0.0           0.0     0.0     0.0   \n",
       "0002_01            109.0        9.0          25.0   549.0    44.0   \n",
       "0003_01             43.0     3576.0           0.0  6715.0    49.0   \n",
       "0003_02              0.0     1283.0         371.0  3329.0   193.0   \n",
       "0004_01            303.0       70.0         151.0   565.0     2.0   \n",
       "\n",
       "                          Name  Transported  \n",
       "PassengerId                                  \n",
       "0001_01        Maham Ofracculy        False  \n",
       "0002_01           Juanna Vines         True  \n",
       "0003_01          Altark Susent        False  \n",
       "0003_02           Solam Susent        False  \n",
       "0004_01      Willy Santantines         True  "
      ]
     },
     "execution_count": 49,
     "metadata": {},
     "output_type": "execute_result"
    }
   ],
   "source": [
    "train_data = pd.read_csv(r'C:\\Users\\User\\Desktop\\Projects\\Kaggle\\Kaggle_Practice\\spaceship_titanic\\data\\train.csv', index_col='PassengerId')\n",
    "train_data.head()"
   ]
  },
  {
   "cell_type": "code",
   "execution_count": 50,
   "metadata": {},
   "outputs": [],
   "source": [
    "target_col = 'Transported'"
   ]
  },
  {
   "cell_type": "code",
   "execution_count": 51,
   "metadata": {},
   "outputs": [],
   "source": [
    "expenditures = [\"RoomService\", 'FoodCourt', 'ShoppingMall', 'Spa', 'VRDeck']"
   ]
  },
  {
   "cell_type": "code",
   "execution_count": 52,
   "metadata": {},
   "outputs": [],
   "source": [
    "def preprocess(data: pd.DataFrame, cols2sum: List[str]):\n",
    "    data['Total_exp'] = data[cols2sum].sum(axis=1)\n",
    "    data[\"InGroup\"]   = create_ingroup_from_index(data)\n",
    "    parsed_cabin = parse_cabin(data)\n",
    "\n",
    "    return parsed_cabin.drop(['Name'], axis=1)\n",
    "\n",
    "def parse_cabin(data: pd.DataFrame):\n",
    "    data['Deck']     = data['Cabin'].apply(lambda x: x.split(sep='/')[0] if type(x) == str else x)\n",
    "    # data['Cabin_#']  = data['Cabin'].apply(lambda x: x.split(sep='/')[1] if type(x) == str else x)\n",
    "    data['Portside'] = data['Cabin'].apply(lambda x: x.split(sep='/')[2] if type(x) == str else x)\n",
    "\n",
    "    return data.drop(['Cabin'] + expenditures, axis=1)\n",
    "\n",
    "def create_ingroup_from_index(data: pd.DataFrame):\n",
    "    df = data.index.to_frame()\n",
    "    df[['group_id', 'ingroup_id']] = df['PassengerId'].str.split(\"_\", n = 1, expand = True)\n",
    "    grouped = df.groupby('group_id').count()\n",
    "    grouped['ingroup'] = np.where(grouped['ingroup_id'] > 1, 1, 0)\n",
    "    return pd.merge(df['group_id'], grouped['ingroup'], left_on=['group_id'], right_index=True)['ingroup']"
   ]
  },
  {
   "cell_type": "code",
   "execution_count": 53,
   "metadata": {},
   "outputs": [],
   "source": [
    "train_df = preprocess(data=train_data, cols2sum=expenditures)"
   ]
  },
  {
   "cell_type": "markdown",
   "metadata": {},
   "source": [
    "# Impute nulls"
   ]
  },
  {
   "cell_type": "code",
   "execution_count": 54,
   "metadata": {},
   "outputs": [],
   "source": [
    "most_freq_imputer = SimpleImputer(strategy='most_frequent')\n",
    "median_imputer    = SimpleImputer(strategy='median')\n",
    "mean_imputer      = SimpleImputer(strategy='mean')"
   ]
  },
  {
   "cell_type": "code",
   "execution_count": 55,
   "metadata": {},
   "outputs": [
    {
     "data": {
      "text/plain": [
       "HomePlanet     201\n",
       "CryoSleep      217\n",
       "Destination    182\n",
       "Age            179\n",
       "VIP            203\n",
       "Transported      0\n",
       "Total_exp        0\n",
       "InGroup          0\n",
       "Deck           199\n",
       "Portside       199\n",
       "dtype: int64"
      ]
     },
     "execution_count": 55,
     "metadata": {},
     "output_type": "execute_result"
    }
   ],
   "source": [
    "train_df.isnull().sum()"
   ]
  },
  {
   "cell_type": "code",
   "execution_count": 56,
   "metadata": {},
   "outputs": [],
   "source": [
    "def impute_col(data: pd.DataFrame, col: str, imputer):\n",
    "    imputed = imputer.fit_transform(data[[col]]).ravel()\n",
    "    print(f\"len of original and imputed column name {col} are equal: \",len(data[col]) == len(imputed))\n",
    "    return imputed"
   ]
  },
  {
   "cell_type": "code",
   "execution_count": 57,
   "metadata": {},
   "outputs": [
    {
     "name": "stdout",
     "output_type": "stream",
     "text": [
      "len of original and imputed column name Age are equal:  True\n",
      "len of original and imputed column name Deck are equal:  True\n",
      "len of original and imputed column name Portside are equal:  True\n",
      "len of original and imputed column name Destination are equal:  True\n",
      "len of original and imputed column name CryoSleep are equal:  True\n",
      "len of original and imputed column name HomePlanet are equal:  True\n",
      "len of original and imputed column name VIP are equal:  True\n"
     ]
    }
   ],
   "source": [
    "train_df['Age']         = impute_col(train_df, 'Age'        , mean_imputer)\n",
    "\n",
    "train_df['Deck']        = impute_col(train_df, 'Deck'       , most_freq_imputer)\n",
    "train_df['Portside']    = impute_col(train_df, 'Portside'   , most_freq_imputer)\n",
    "train_df['Destination'] = impute_col(train_df, 'Destination', most_freq_imputer)\n",
    "train_df['CryoSleep']   = impute_col(train_df, 'CryoSleep'  , most_freq_imputer)\n",
    "train_df['HomePlanet']  = impute_col(train_df, 'HomePlanet' , most_freq_imputer)\n",
    "train_df['VIP']         = impute_col(train_df, 'VIP',         most_freq_imputer)"
   ]
  },
  {
   "cell_type": "code",
   "execution_count": 58,
   "metadata": {},
   "outputs": [],
   "source": [
    "def change_type_cols_inplace(data: pd.DataFrame, cols: List[str], change_type = bool):\n",
    "    for col in cols:\n",
    "        data[col] = data[col].astype(change_type)"
   ]
  },
  {
   "cell_type": "code",
   "execution_count": 59,
   "metadata": {},
   "outputs": [],
   "source": [
    "change_type_cols_inplace(train_df, cols=['VIP','CryoSleep', target_col], change_type=float)"
   ]
  },
  {
   "cell_type": "code",
   "execution_count": 60,
   "metadata": {},
   "outputs": [
    {
     "name": "stdout",
     "output_type": "stream",
     "text": [
      "<class 'pandas.core.frame.DataFrame'>\n",
      "Index: 8693 entries, 0001_01 to 9280_02\n",
      "Data columns (total 10 columns):\n",
      " #   Column       Non-Null Count  Dtype  \n",
      "---  ------       --------------  -----  \n",
      " 0   HomePlanet   8693 non-null   object \n",
      " 1   CryoSleep    8693 non-null   float64\n",
      " 2   Destination  8693 non-null   object \n",
      " 3   Age          8693 non-null   float64\n",
      " 4   VIP          8693 non-null   float64\n",
      " 5   Transported  8693 non-null   float64\n",
      " 6   Total_exp    8693 non-null   float64\n",
      " 7   InGroup      8693 non-null   int64  \n",
      " 8   Deck         8693 non-null   object \n",
      " 9   Portside     8693 non-null   object \n",
      "dtypes: float64(5), int64(1), object(4)\n",
      "memory usage: 747.1+ KB\n"
     ]
    }
   ],
   "source": [
    "train_df.info()"
   ]
  },
  {
   "cell_type": "markdown",
   "metadata": {},
   "source": [
    "# Scaling"
   ]
  },
  {
   "cell_type": "code",
   "execution_count": 61,
   "metadata": {},
   "outputs": [],
   "source": [
    "from sklearn.preprocessing import MinMaxScaler, StandardScaler"
   ]
  },
  {
   "cell_type": "code",
   "execution_count": 62,
   "metadata": {},
   "outputs": [],
   "source": [
    "min_max_scale  = MinMaxScaler()\n",
    "standard_scale = StandardScaler()"
   ]
  },
  {
   "cell_type": "code",
   "execution_count": 63,
   "metadata": {},
   "outputs": [],
   "source": [
    "train_df['Age'] = min_max_scale.fit_transform(train_df[['Age']])"
   ]
  },
  {
   "cell_type": "markdown",
   "metadata": {},
   "source": [
    "# Split `Train` and `Val`"
   ]
  },
  {
   "cell_type": "code",
   "execution_count": 64,
   "metadata": {},
   "outputs": [
    {
     "data": {
      "text/plain": [
       "869"
      ]
     },
     "execution_count": 64,
     "metadata": {},
     "output_type": "execute_result"
    }
   ],
   "source": [
    "TRAIN_VAL_CONSTANT = len(train_df) // 10\n",
    "TRAIN_VAL_CONSTANT"
   ]
  },
  {
   "cell_type": "code",
   "execution_count": 65,
   "metadata": {},
   "outputs": [],
   "source": [
    "train = train_df[:-TRAIN_VAL_CONSTANT]\n",
    "val   = train_df[-TRAIN_VAL_CONSTANT:]"
   ]
  },
  {
   "cell_type": "code",
   "execution_count": 66,
   "metadata": {},
   "outputs": [
    {
     "data": {
      "text/html": [
       "<div>\n",
       "<style scoped>\n",
       "    .dataframe tbody tr th:only-of-type {\n",
       "        vertical-align: middle;\n",
       "    }\n",
       "\n",
       "    .dataframe tbody tr th {\n",
       "        vertical-align: top;\n",
       "    }\n",
       "\n",
       "    .dataframe thead th {\n",
       "        text-align: right;\n",
       "    }\n",
       "</style>\n",
       "<table border=\"1\" class=\"dataframe\">\n",
       "  <thead>\n",
       "    <tr style=\"text-align: right;\">\n",
       "      <th></th>\n",
       "      <th>HomePlanet</th>\n",
       "      <th>CryoSleep</th>\n",
       "      <th>Destination</th>\n",
       "      <th>Age</th>\n",
       "      <th>VIP</th>\n",
       "      <th>Transported</th>\n",
       "      <th>Total_exp</th>\n",
       "      <th>InGroup</th>\n",
       "      <th>Deck</th>\n",
       "      <th>Portside</th>\n",
       "    </tr>\n",
       "    <tr>\n",
       "      <th>PassengerId</th>\n",
       "      <th></th>\n",
       "      <th></th>\n",
       "      <th></th>\n",
       "      <th></th>\n",
       "      <th></th>\n",
       "      <th></th>\n",
       "      <th></th>\n",
       "      <th></th>\n",
       "      <th></th>\n",
       "      <th></th>\n",
       "    </tr>\n",
       "  </thead>\n",
       "  <tbody>\n",
       "    <tr>\n",
       "      <th>0001_01</th>\n",
       "      <td>Europa</td>\n",
       "      <td>0.0</td>\n",
       "      <td>TRAPPIST-1e</td>\n",
       "      <td>0.493671</td>\n",
       "      <td>0.0</td>\n",
       "      <td>0.0</td>\n",
       "      <td>0.0</td>\n",
       "      <td>0</td>\n",
       "      <td>B</td>\n",
       "      <td>P</td>\n",
       "    </tr>\n",
       "    <tr>\n",
       "      <th>0002_01</th>\n",
       "      <td>Earth</td>\n",
       "      <td>0.0</td>\n",
       "      <td>TRAPPIST-1e</td>\n",
       "      <td>0.303797</td>\n",
       "      <td>0.0</td>\n",
       "      <td>1.0</td>\n",
       "      <td>736.0</td>\n",
       "      <td>0</td>\n",
       "      <td>F</td>\n",
       "      <td>S</td>\n",
       "    </tr>\n",
       "    <tr>\n",
       "      <th>0003_01</th>\n",
       "      <td>Europa</td>\n",
       "      <td>0.0</td>\n",
       "      <td>TRAPPIST-1e</td>\n",
       "      <td>0.734177</td>\n",
       "      <td>1.0</td>\n",
       "      <td>0.0</td>\n",
       "      <td>10383.0</td>\n",
       "      <td>1</td>\n",
       "      <td>A</td>\n",
       "      <td>S</td>\n",
       "    </tr>\n",
       "    <tr>\n",
       "      <th>0003_02</th>\n",
       "      <td>Europa</td>\n",
       "      <td>0.0</td>\n",
       "      <td>TRAPPIST-1e</td>\n",
       "      <td>0.417722</td>\n",
       "      <td>0.0</td>\n",
       "      <td>0.0</td>\n",
       "      <td>5176.0</td>\n",
       "      <td>1</td>\n",
       "      <td>A</td>\n",
       "      <td>S</td>\n",
       "    </tr>\n",
       "    <tr>\n",
       "      <th>0004_01</th>\n",
       "      <td>Earth</td>\n",
       "      <td>0.0</td>\n",
       "      <td>TRAPPIST-1e</td>\n",
       "      <td>0.202532</td>\n",
       "      <td>0.0</td>\n",
       "      <td>1.0</td>\n",
       "      <td>1091.0</td>\n",
       "      <td>0</td>\n",
       "      <td>F</td>\n",
       "      <td>S</td>\n",
       "    </tr>\n",
       "  </tbody>\n",
       "</table>\n",
       "</div>"
      ],
      "text/plain": [
       "            HomePlanet  CryoSleep  Destination       Age  VIP  Transported  \\\n",
       "PassengerId                                                                  \n",
       "0001_01         Europa        0.0  TRAPPIST-1e  0.493671  0.0          0.0   \n",
       "0002_01          Earth        0.0  TRAPPIST-1e  0.303797  0.0          1.0   \n",
       "0003_01         Europa        0.0  TRAPPIST-1e  0.734177  1.0          0.0   \n",
       "0003_02         Europa        0.0  TRAPPIST-1e  0.417722  0.0          0.0   \n",
       "0004_01          Earth        0.0  TRAPPIST-1e  0.202532  0.0          1.0   \n",
       "\n",
       "             Total_exp  InGroup Deck Portside  \n",
       "PassengerId                                    \n",
       "0001_01            0.0        0    B        P  \n",
       "0002_01          736.0        0    F        S  \n",
       "0003_01        10383.0        1    A        S  \n",
       "0003_02         5176.0        1    A        S  \n",
       "0004_01         1091.0        0    F        S  "
      ]
     },
     "execution_count": 66,
     "metadata": {},
     "output_type": "execute_result"
    }
   ],
   "source": [
    "train.head()"
   ]
  },
  {
   "cell_type": "markdown",
   "metadata": {},
   "source": [
    "# Encoding"
   ]
  },
  {
   "cell_type": "code",
   "execution_count": 67,
   "metadata": {},
   "outputs": [],
   "source": [
    "cols2encode = ['HomePlanet', 'Destination' ,'Deck', 'Portside']"
   ]
  },
  {
   "cell_type": "code",
   "execution_count": 68,
   "metadata": {},
   "outputs": [],
   "source": [
    "def encode_loo(df: pd.DataFrame, loo_enc: ce.LeaveOneOutEncoder ,target_col: str = target_col):    \n",
    "    return loo_enc.fit_transform(df, df[target_col])"
   ]
  },
  {
   "cell_type": "code",
   "execution_count": 69,
   "metadata": {},
   "outputs": [],
   "source": [
    "loo_enc = ce.LeaveOneOutEncoder(cols=cols2encode)"
   ]
  },
  {
   "cell_type": "markdown",
   "metadata": {},
   "source": [
    "Separating the **Leave One Out** encoding for the `train` and `val` as the encoder grabs the mean of the `target_col` for each category. Thus, when evaluating with a validation set we should act as the `target_col` is not known."
   ]
  },
  {
   "cell_type": "code",
   "execution_count": 70,
   "metadata": {},
   "outputs": [],
   "source": [
    "X_train = loo_enc.fit_transform(train.drop(target_col, axis=1), train[target_col])\n",
    "X_val   = loo_enc.transform(val.drop(target_col, axis=1))"
   ]
  },
  {
   "cell_type": "code",
   "execution_count": 71,
   "metadata": {},
   "outputs": [
    {
     "data": {
      "text/html": [
       "<div>\n",
       "<style scoped>\n",
       "    .dataframe tbody tr th:only-of-type {\n",
       "        vertical-align: middle;\n",
       "    }\n",
       "\n",
       "    .dataframe tbody tr th {\n",
       "        vertical-align: top;\n",
       "    }\n",
       "\n",
       "    .dataframe thead th {\n",
       "        text-align: right;\n",
       "    }\n",
       "</style>\n",
       "<table border=\"1\" class=\"dataframe\">\n",
       "  <thead>\n",
       "    <tr style=\"text-align: right;\">\n",
       "      <th></th>\n",
       "      <th>HomePlanet</th>\n",
       "      <th>CryoSleep</th>\n",
       "      <th>Destination</th>\n",
       "      <th>Age</th>\n",
       "      <th>VIP</th>\n",
       "      <th>Total_exp</th>\n",
       "      <th>InGroup</th>\n",
       "      <th>Deck</th>\n",
       "      <th>Portside</th>\n",
       "      <th>Transported</th>\n",
       "    </tr>\n",
       "    <tr>\n",
       "      <th>PassengerId</th>\n",
       "      <th></th>\n",
       "      <th></th>\n",
       "      <th></th>\n",
       "      <th></th>\n",
       "      <th></th>\n",
       "      <th></th>\n",
       "      <th></th>\n",
       "      <th></th>\n",
       "      <th></th>\n",
       "      <th></th>\n",
       "    </tr>\n",
       "  </thead>\n",
       "  <tbody>\n",
       "    <tr>\n",
       "      <th>0001_01</th>\n",
       "      <td>0.663556</td>\n",
       "      <td>0.0</td>\n",
       "      <td>0.476632</td>\n",
       "      <td>0.493671</td>\n",
       "      <td>0.0</td>\n",
       "      <td>0.0</td>\n",
       "      <td>0</td>\n",
       "      <td>0.732017</td>\n",
       "      <td>0.450000</td>\n",
       "      <td>0.0</td>\n",
       "    </tr>\n",
       "    <tr>\n",
       "      <th>0002_01</th>\n",
       "      <td>0.431528</td>\n",
       "      <td>0.0</td>\n",
       "      <td>0.476450</td>\n",
       "      <td>0.303797</td>\n",
       "      <td>0.0</td>\n",
       "      <td>736.0</td>\n",
       "      <td>0</td>\n",
       "      <td>0.445397</td>\n",
       "      <td>0.561603</td>\n",
       "      <td>1.0</td>\n",
       "    </tr>\n",
       "    <tr>\n",
       "      <th>0003_01</th>\n",
       "      <td>0.663556</td>\n",
       "      <td>0.0</td>\n",
       "      <td>0.476632</td>\n",
       "      <td>0.734177</td>\n",
       "      <td>1.0</td>\n",
       "      <td>10383.0</td>\n",
       "      <td>1</td>\n",
       "      <td>0.508696</td>\n",
       "      <td>0.561851</td>\n",
       "      <td>0.0</td>\n",
       "    </tr>\n",
       "    <tr>\n",
       "      <th>0003_02</th>\n",
       "      <td>0.663556</td>\n",
       "      <td>0.0</td>\n",
       "      <td>0.476632</td>\n",
       "      <td>0.417722</td>\n",
       "      <td>0.0</td>\n",
       "      <td>5176.0</td>\n",
       "      <td>1</td>\n",
       "      <td>0.508696</td>\n",
       "      <td>0.561851</td>\n",
       "      <td>0.0</td>\n",
       "    </tr>\n",
       "    <tr>\n",
       "      <th>0004_01</th>\n",
       "      <td>0.431528</td>\n",
       "      <td>0.0</td>\n",
       "      <td>0.476450</td>\n",
       "      <td>0.202532</td>\n",
       "      <td>0.0</td>\n",
       "      <td>1091.0</td>\n",
       "      <td>0</td>\n",
       "      <td>0.445397</td>\n",
       "      <td>0.561603</td>\n",
       "      <td>1.0</td>\n",
       "    </tr>\n",
       "  </tbody>\n",
       "</table>\n",
       "</div>"
      ],
      "text/plain": [
       "             HomePlanet  CryoSleep  Destination       Age  VIP  Total_exp  \\\n",
       "PassengerId                                                                 \n",
       "0001_01        0.663556        0.0     0.476632  0.493671  0.0        0.0   \n",
       "0002_01        0.431528        0.0     0.476450  0.303797  0.0      736.0   \n",
       "0003_01        0.663556        0.0     0.476632  0.734177  1.0    10383.0   \n",
       "0003_02        0.663556        0.0     0.476632  0.417722  0.0     5176.0   \n",
       "0004_01        0.431528        0.0     0.476450  0.202532  0.0     1091.0   \n",
       "\n",
       "             InGroup      Deck  Portside  Transported  \n",
       "PassengerId                                            \n",
       "0001_01            0  0.732017  0.450000          0.0  \n",
       "0002_01            0  0.445397  0.561603          1.0  \n",
       "0003_01            1  0.508696  0.561851          0.0  \n",
       "0003_02            1  0.508696  0.561851          0.0  \n",
       "0004_01            0  0.445397  0.561603          1.0  "
      ]
     },
     "execution_count": 71,
     "metadata": {},
     "output_type": "execute_result"
    }
   ],
   "source": [
    "train_enc = X_train.merge(train[target_col], left_index=True, right_index=True)\n",
    "train_enc.head()"
   ]
  },
  {
   "cell_type": "code",
   "execution_count": 72,
   "metadata": {},
   "outputs": [
    {
     "data": {
      "text/html": [
       "<div>\n",
       "<style scoped>\n",
       "    .dataframe tbody tr th:only-of-type {\n",
       "        vertical-align: middle;\n",
       "    }\n",
       "\n",
       "    .dataframe tbody tr th {\n",
       "        vertical-align: top;\n",
       "    }\n",
       "\n",
       "    .dataframe thead th {\n",
       "        text-align: right;\n",
       "    }\n",
       "</style>\n",
       "<table border=\"1\" class=\"dataframe\">\n",
       "  <thead>\n",
       "    <tr style=\"text-align: right;\">\n",
       "      <th></th>\n",
       "      <th>HomePlanet</th>\n",
       "      <th>CryoSleep</th>\n",
       "      <th>Destination</th>\n",
       "      <th>Age</th>\n",
       "      <th>VIP</th>\n",
       "      <th>Total_exp</th>\n",
       "      <th>InGroup</th>\n",
       "      <th>Deck</th>\n",
       "      <th>Portside</th>\n",
       "      <th>Transported</th>\n",
       "    </tr>\n",
       "    <tr>\n",
       "      <th>PassengerId</th>\n",
       "      <th></th>\n",
       "      <th></th>\n",
       "      <th></th>\n",
       "      <th></th>\n",
       "      <th></th>\n",
       "      <th></th>\n",
       "      <th></th>\n",
       "      <th></th>\n",
       "      <th></th>\n",
       "      <th></th>\n",
       "    </tr>\n",
       "  </thead>\n",
       "  <tbody>\n",
       "    <tr>\n",
       "      <th>8346_01</th>\n",
       "      <td>0.431660</td>\n",
       "      <td>0.0</td>\n",
       "      <td>0.476545</td>\n",
       "      <td>0.364911</td>\n",
       "      <td>0.0</td>\n",
       "      <td>774.0</td>\n",
       "      <td>0</td>\n",
       "      <td>0.445604</td>\n",
       "      <td>0.449881</td>\n",
       "      <td>0.0</td>\n",
       "    </tr>\n",
       "    <tr>\n",
       "      <th>8348_01</th>\n",
       "      <td>0.524497</td>\n",
       "      <td>1.0</td>\n",
       "      <td>0.476545</td>\n",
       "      <td>0.594937</td>\n",
       "      <td>0.0</td>\n",
       "      <td>0.0</td>\n",
       "      <td>0</td>\n",
       "      <td>0.355414</td>\n",
       "      <td>0.449881</td>\n",
       "      <td>1.0</td>\n",
       "    </tr>\n",
       "    <tr>\n",
       "      <th>8354_01</th>\n",
       "      <td>0.663212</td>\n",
       "      <td>1.0</td>\n",
       "      <td>0.476545</td>\n",
       "      <td>0.189873</td>\n",
       "      <td>0.0</td>\n",
       "      <td>0.0</td>\n",
       "      <td>1</td>\n",
       "      <td>0.730986</td>\n",
       "      <td>0.561712</td>\n",
       "      <td>1.0</td>\n",
       "    </tr>\n",
       "    <tr>\n",
       "      <th>8354_02</th>\n",
       "      <td>0.663212</td>\n",
       "      <td>1.0</td>\n",
       "      <td>0.476545</td>\n",
       "      <td>0.164557</td>\n",
       "      <td>0.0</td>\n",
       "      <td>0.0</td>\n",
       "      <td>1</td>\n",
       "      <td>0.730986</td>\n",
       "      <td>0.561712</td>\n",
       "      <td>1.0</td>\n",
       "    </tr>\n",
       "    <tr>\n",
       "      <th>8356_01</th>\n",
       "      <td>0.431660</td>\n",
       "      <td>1.0</td>\n",
       "      <td>0.513475</td>\n",
       "      <td>0.240506</td>\n",
       "      <td>0.0</td>\n",
       "      <td>0.0</td>\n",
       "      <td>0</td>\n",
       "      <td>0.522609</td>\n",
       "      <td>0.449881</td>\n",
       "      <td>0.0</td>\n",
       "    </tr>\n",
       "  </tbody>\n",
       "</table>\n",
       "</div>"
      ],
      "text/plain": [
       "             HomePlanet  CryoSleep  Destination       Age  VIP  Total_exp  \\\n",
       "PassengerId                                                                 \n",
       "8346_01        0.431660        0.0     0.476545  0.364911  0.0      774.0   \n",
       "8348_01        0.524497        1.0     0.476545  0.594937  0.0        0.0   \n",
       "8354_01        0.663212        1.0     0.476545  0.189873  0.0        0.0   \n",
       "8354_02        0.663212        1.0     0.476545  0.164557  0.0        0.0   \n",
       "8356_01        0.431660        1.0     0.513475  0.240506  0.0        0.0   \n",
       "\n",
       "             InGroup      Deck  Portside  Transported  \n",
       "PassengerId                                            \n",
       "8346_01            0  0.445604  0.449881          0.0  \n",
       "8348_01            0  0.355414  0.449881          1.0  \n",
       "8354_01            1  0.730986  0.561712          1.0  \n",
       "8354_02            1  0.730986  0.561712          1.0  \n",
       "8356_01            0  0.522609  0.449881          0.0  "
      ]
     },
     "execution_count": 72,
     "metadata": {},
     "output_type": "execute_result"
    }
   ],
   "source": [
    "val_enc = X_val.merge(val[target_col], left_index=True, right_index=True)\n",
    "val_enc.head()"
   ]
  },
  {
   "cell_type": "markdown",
   "metadata": {},
   "source": [
    "# Create `TensorDataset` and `DataLoader`"
   ]
  },
  {
   "cell_type": "code",
   "execution_count": 73,
   "metadata": {},
   "outputs": [],
   "source": [
    "from torch.utils.data import DataLoader, TensorDataset"
   ]
  },
  {
   "cell_type": "code",
   "execution_count": 74,
   "metadata": {},
   "outputs": [],
   "source": [
    "import torch"
   ]
  },
  {
   "cell_type": "code",
   "execution_count": 75,
   "metadata": {},
   "outputs": [],
   "source": [
    "def create_dataset_dataloader(df: pd.DataFrame, target_col: str, dtype = torch.float32, testing: bool = False) -> Tuple[TensorDataset, DataLoader]:\n",
    "    if testing:\n",
    "        dataset = TensorDataset(torch.tensor(df.values, dtype=dtype))  \n",
    "        dataloader = DataLoader(dataset=dataset, batch_size=len(dataset), shuffle=True, drop_last=True)\n",
    "\n",
    "        return dataset, dataloader\n",
    "    else:    \n",
    "        dataset = TensorDataset(torch.tensor(df.drop(target_col, axis=1).values, dtype=dtype),\n",
    "                                torch.tensor(df[target_col].values, dtype=dtype)) \n",
    "        dataloader = DataLoader(dataset=dataset, batch_size=len(dataset), shuffle=True, drop_last=True)\n",
    "\n",
    "        return dataset, dataloader\n"
   ]
  },
  {
   "cell_type": "code",
   "execution_count": 76,
   "metadata": {},
   "outputs": [],
   "source": [
    "train_dataset, train_dataloader = create_dataset_dataloader(train_enc, target_col)\n",
    "val_dataset,  val_dataloader    = create_dataset_dataloader(val_enc, target_col)"
   ]
  },
  {
   "cell_type": "code",
   "execution_count": 77,
   "metadata": {},
   "outputs": [
    {
     "data": {
      "text/plain": [
       "1"
      ]
     },
     "execution_count": 77,
     "metadata": {},
     "output_type": "execute_result"
    }
   ],
   "source": [
    "len(train_dataloader)"
   ]
  },
  {
   "cell_type": "markdown",
   "metadata": {},
   "source": [
    "# Model"
   ]
  },
  {
   "cell_type": "code",
   "execution_count": 78,
   "metadata": {},
   "outputs": [],
   "source": [
    "NUM_FEATS = len(train.drop(target_col, axis=1).columns)\n",
    "NUM_CLASSES = 1"
   ]
  },
  {
   "cell_type": "code",
   "execution_count": null,
   "metadata": {},
   "outputs": [],
   "source": [
    "class BasicNNModel(nn.Module):\n",
    "    def __init__(self, input_features, output_features, hidden_units):\n",
    "        super().__init__()\n",
    "        self.linear_layer_stack = nn.Sequential(\n",
    "            nn.Linear(in_features=input_features, out_features=2**hidden_units),\n",
    "            nn.Dropout(p=0.01),\n",
    "            nn.Linear(in_features=2**hidden_units, out_features=2**hidden_units),\n",
    "            nn.Dropout(p=0.01),\n",
    "            nn.Linear(in_features=2**hidden_units, out_features=output_features), \n",
    "        )\n",
    "    def forward(self, x):\n",
    "        return self.linear_layer_stack(x)"
   ]
  },
  {
   "cell_type": "code",
   "execution_count": 80,
   "metadata": {},
   "outputs": [],
   "source": [
    "model = BasicNNModel(input_features=NUM_FEATS, output_features=NUM_CLASSES, hidden_units=6)"
   ]
  },
  {
   "cell_type": "code",
   "execution_count": null,
   "metadata": {},
   "outputs": [],
   "source": [
    "loss_fn = nn.BCEWithLogitsLoss()\n",
    "optimizer = torch.optim.Adam(model.parameters(), lr=0.001)"
   ]
  },
  {
   "cell_type": "code",
   "execution_count": 82,
   "metadata": {},
   "outputs": [],
   "source": [
    "accuracy_ = Accuracy('binary')"
   ]
  },
  {
   "cell_type": "markdown",
   "metadata": {},
   "source": [
    "# Model Train Loop"
   ]
  },
  {
   "cell_type": "markdown",
   "metadata": {},
   "source": [
    "## Train Step"
   ]
  },
  {
   "cell_type": "code",
   "execution_count": null,
   "metadata": {},
   "outputs": [],
   "source": [
    "def train_step(model: nn.Module,\n",
    "               dataloader: torch.utils.data.DataLoader,\n",
    "               loss_fn: nn.Module,\n",
    "               optimizer: torch.optim.Optimizer,\n",
    "               device: torch.device) -> Tuple[float, float]:\n",
    "    \n",
    "    model.train()\n",
    "    train_loss, train_acc = 0, 0\n",
    "\n",
    "    for batch, (X,y) in enumerate(dataloader):\n",
    "        X, y = X.to(device), y.to(device)\n",
    "        y_pred_logits = model(X).ravel()\n",
    "        loss = loss_fn(y_pred_logits, y)\n",
    "        train_loss += loss.item()\n",
    "        y_pred = torch.sigmoid(y_pred_logits).round()\n",
    "        train_acc = accuracy_(y_pred, y)\n",
    "\n",
    "        optimizer.zero_grad()\n",
    "        loss.backward()\n",
    "        optimizer.step\n",
    "\n",
    "\n",
    "\n",
    "    train_loss = train_loss / len(dataloader)\n",
    "    train_acc = train_acc / len(dataloader)\n",
    "    return train_loss, train_acc "
   ]
  },
  {
   "cell_type": "markdown",
   "metadata": {},
   "source": [
    "## Validation Step"
   ]
  },
  {
   "cell_type": "code",
   "execution_count": null,
   "metadata": {},
   "outputs": [],
   "source": [
    "def validation_step(model: nn.Module,\n",
    "              dataloader: torch.utils.data.DataLoader,\n",
    "              loss_fn: nn.Module,\n",
    "              device: torch.device) -> Tuple[float, float]:\n",
    "    model.eval()\n",
    "    val_loss, val_acc = 0, 0\n",
    "    with torch.inference_mode():\n",
    "        for batch, (X, y) in enumerate(dataloader):\n",
    "            X, y = X.to(device), y.to(device)\n",
    "            val_pred_logits = model(X).ravel()\n",
    "            loss = loss_fn(val_pred_logits, y)\n",
    "            val_loss += loss.item()\n",
    "            val_pred = torch.sigmoid(val_pred_logits).round()\n",
    "            val_acc = accuracy_(val_pred, y)\n",
    "\n",
    "    val_loss = val_loss /len(dataloader)\n",
    "    val_acc = val_acc /len(dataloader)\n",
    "    return val_loss, val_acc\n",
    "\n"
   ]
  },
  {
   "cell_type": "code",
   "execution_count": 85,
   "metadata": {},
   "outputs": [],
   "source": [
    "def train_model(model: nn.Module,\n",
    "          train_dataloader: torch.utils.data.DataLoader,\n",
    "          val_dataloader: torch.utils.data.DataLoader,\n",
    "          optimizer: torch.optim.Optimizer,\n",
    "          loss_fn: nn.Module,\n",
    "          epochs: int,\n",
    "          device: torch.device) -> Dict[str, List]:\n",
    "    results = {\"train_loss\": [], \"train_acc\": [], \"val_loss\": [], \"val_acc\": []}\n",
    "    for epoch in range(epochs):\n",
    "        train_loss, train_acc = train_step(model     = model,\n",
    "                                          dataloader = train_dataloader,\n",
    "                                          loss_fn    = loss_fn,\n",
    "                                          optimizer  = optimizer,\n",
    "                                          device     = device)\n",
    "        val_loss, val_acc = validation_step(model      = model,\n",
    "                                            dataloader = val_dataloader,\n",
    "                                            loss_fn    = loss_fn,\n",
    "                                            device     = device)\n",
    "        if epoch % 10 == 0:\n",
    "            print(f\"Epoch: {epoch} | Loss: {train_loss:.5f}, Acc: {train_acc:.2f}% | Val Loss: {val_loss:.5f}, Val Acc: {val_acc:.2f}%\")\n",
    "        if epoch == epochs-1:\n",
    "            print(f\"Last Epoch:\\nEpoch: {epoch} | Loss: {train_loss:.5f}, Acc: {train_acc:.2f}% | Val Loss: {val_loss:.5f}, Val Acc: {val_acc:.2f}%\")\n",
    "        results[\"train_loss\"].append(train_loss)\n",
    "        results[\"train_acc\"].append(train_acc)\n",
    "        results[\"val_loss\"].append(val_loss)\n",
    "        results[\"val_acc\"].append(val_acc)\n",
    "    \n",
    "    return results"
   ]
  },
  {
   "cell_type": "code",
   "execution_count": 86,
   "metadata": {},
   "outputs": [
    {
     "name": "stdout",
     "output_type": "stream",
     "text": [
      "Epoch: 0 | Loss: 22.84910, Acc: 0.74% | Val Loss: 17.43481, Val Acc: 0.74%\n",
      "Epoch: 10 | Loss: 22.97643, Acc: 0.74% | Val Loss: 17.43481, Val Acc: 0.74%\n",
      "Epoch: 20 | Loss: 22.58407, Acc: 0.74% | Val Loss: 17.43481, Val Acc: 0.74%\n",
      "Epoch: 30 | Loss: 22.71318, Acc: 0.74% | Val Loss: 17.43480, Val Acc: 0.74%\n",
      "Epoch: 40 | Loss: 22.74231, Acc: 0.74% | Val Loss: 17.43480, Val Acc: 0.74%\n",
      "Epoch: 50 | Loss: 22.74458, Acc: 0.74% | Val Loss: 17.43480, Val Acc: 0.74%\n",
      "Epoch: 60 | Loss: 22.70651, Acc: 0.74% | Val Loss: 17.43480, Val Acc: 0.74%\n",
      "Epoch: 70 | Loss: 22.65010, Acc: 0.74% | Val Loss: 17.43481, Val Acc: 0.74%\n",
      "Epoch: 80 | Loss: 22.89098, Acc: 0.74% | Val Loss: 17.43481, Val Acc: 0.74%\n",
      "Epoch: 90 | Loss: 22.68027, Acc: 0.74% | Val Loss: 17.43480, Val Acc: 0.74%\n",
      "Last Epoch:\n",
      "Epoch: 99 | Loss: 22.63132, Acc: 0.74% | Val Loss: 17.43480, Val Acc: 0.74%\n"
     ]
    }
   ],
   "source": [
    "results = train_model(model=  model,\n",
    "          train_dataloader = train_dataloader,\n",
    "          val_dataloader = val_dataloader,\n",
    "          optimizer = optimizer,\n",
    "          loss_fn = loss_fn,\n",
    "          epochs = 100,\n",
    "          device = device)"
   ]
  },
  {
   "cell_type": "code",
   "execution_count": null,
   "metadata": {},
   "outputs": [
    {
     "ename": "NameError",
     "evalue": "name 'stop' is not defined",
     "output_type": "error",
     "traceback": [
      "\u001b[1;31m---------------------------------------------------------------------------\u001b[0m",
      "\u001b[1;31mNameError\u001b[0m                                 Traceback (most recent call last)",
      "Cell \u001b[1;32mIn[87], line 1\u001b[0m\n\u001b[1;32m----> 1\u001b[0m \u001b[43mstop\u001b[49m\n",
      "\u001b[1;31mNameError\u001b[0m: name 'stop' is not defined"
     ]
    }
   ],
   "source": []
  },
  {
   "cell_type": "markdown",
   "metadata": {},
   "source": [
    "# Test"
   ]
  },
  {
   "cell_type": "code",
   "execution_count": 88,
   "metadata": {},
   "outputs": [],
   "source": [
    "test_data = pd.read_csv(r'C:\\Users\\User\\Desktop\\Projects\\Kaggle\\Kaggle_Practice\\spaceship_titanic\\data\\test.csv', index_col='PassengerId')"
   ]
  },
  {
   "cell_type": "markdown",
   "metadata": {},
   "source": [
    "## Preprocess"
   ]
  },
  {
   "cell_type": "code",
   "execution_count": 89,
   "metadata": {},
   "outputs": [],
   "source": [
    "test_df = preprocess(data=test_data, cols2sum=expenditures)"
   ]
  },
  {
   "cell_type": "markdown",
   "metadata": {},
   "source": [
    "## Impute"
   ]
  },
  {
   "cell_type": "code",
   "execution_count": 90,
   "metadata": {},
   "outputs": [
    {
     "name": "stdout",
     "output_type": "stream",
     "text": [
      "len of original and imputed column name Age are equal:  True\n",
      "len of original and imputed column name Deck are equal:  True\n",
      "len of original and imputed column name Portside are equal:  True\n",
      "len of original and imputed column name Destination are equal:  True\n",
      "len of original and imputed column name CryoSleep are equal:  True\n",
      "len of original and imputed column name HomePlanet are equal:  True\n",
      "len of original and imputed column name VIP are equal:  True\n"
     ]
    }
   ],
   "source": [
    "test_df['Age']         = impute_col(test_df, 'Age'        , mean_imputer)\n",
    "\n",
    "test_df['Deck']        = impute_col(test_df, 'Deck'       , most_freq_imputer)\n",
    "test_df['Portside']    = impute_col(test_df, 'Portside'   , most_freq_imputer)\n",
    "test_df['Destination'] = impute_col(test_df, 'Destination', most_freq_imputer)\n",
    "test_df['CryoSleep']   = impute_col(test_df, 'CryoSleep'  , most_freq_imputer)\n",
    "test_df['HomePlanet']  = impute_col(test_df, 'HomePlanet' , most_freq_imputer)\n",
    "test_df['VIP']         = impute_col(test_df, 'VIP',         most_freq_imputer)"
   ]
  },
  {
   "cell_type": "code",
   "execution_count": 91,
   "metadata": {},
   "outputs": [],
   "source": [
    "change_type_cols_inplace(test_df, cols=['VIP','CryoSleep'], change_type=float)"
   ]
  },
  {
   "cell_type": "markdown",
   "metadata": {},
   "source": [
    "## Scale"
   ]
  },
  {
   "cell_type": "code",
   "execution_count": 92,
   "metadata": {},
   "outputs": [],
   "source": [
    "test_df['Age'] = min_max_scale.fit_transform(test_df[['Age']])"
   ]
  },
  {
   "cell_type": "markdown",
   "metadata": {},
   "source": [
    "## Encode"
   ]
  },
  {
   "cell_type": "code",
   "execution_count": 93,
   "metadata": {},
   "outputs": [],
   "source": [
    "test_df_enc = loo_enc.transform(test_df)"
   ]
  },
  {
   "cell_type": "code",
   "execution_count": 95,
   "metadata": {},
   "outputs": [],
   "source": [
    "test_dataset, test_dataloader = create_dataset_dataloader(test_df_enc, target_col, testing=True)"
   ]
  },
  {
   "cell_type": "code",
   "execution_count": 96,
   "metadata": {},
   "outputs": [],
   "source": [
    "model.eval()\n",
    "with torch.no_grad():\n",
    "    test_pred_logits = model(test_dataset.tensors[0]).to(device)#\n",
    "    test_pred = torch.sigmoid(test_pred_logits).round()"
   ]
  },
  {
   "cell_type": "markdown",
   "metadata": {},
   "source": [
    "# Final Results"
   ]
  },
  {
   "cell_type": "code",
   "execution_count": 98,
   "metadata": {},
   "outputs": [
    {
     "data": {
      "text/html": [
       "<div>\n",
       "<style scoped>\n",
       "    .dataframe tbody tr th:only-of-type {\n",
       "        vertical-align: middle;\n",
       "    }\n",
       "\n",
       "    .dataframe tbody tr th {\n",
       "        vertical-align: top;\n",
       "    }\n",
       "\n",
       "    .dataframe thead th {\n",
       "        text-align: right;\n",
       "    }\n",
       "</style>\n",
       "<table border=\"1\" class=\"dataframe\">\n",
       "  <thead>\n",
       "    <tr style=\"text-align: right;\">\n",
       "      <th></th>\n",
       "      <th>PassengerId</th>\n",
       "      <th>Transported</th>\n",
       "    </tr>\n",
       "  </thead>\n",
       "  <tbody>\n",
       "    <tr>\n",
       "      <th>0</th>\n",
       "      <td>0013_01</td>\n",
       "      <td>True</td>\n",
       "    </tr>\n",
       "    <tr>\n",
       "      <th>1</th>\n",
       "      <td>0018_01</td>\n",
       "      <td>False</td>\n",
       "    </tr>\n",
       "    <tr>\n",
       "      <th>2</th>\n",
       "      <td>0019_01</td>\n",
       "      <td>True</td>\n",
       "    </tr>\n",
       "    <tr>\n",
       "      <th>3</th>\n",
       "      <td>0021_01</td>\n",
       "      <td>False</td>\n",
       "    </tr>\n",
       "    <tr>\n",
       "      <th>4</th>\n",
       "      <td>0023_01</td>\n",
       "      <td>False</td>\n",
       "    </tr>\n",
       "    <tr>\n",
       "      <th>...</th>\n",
       "      <td>...</td>\n",
       "      <td>...</td>\n",
       "    </tr>\n",
       "    <tr>\n",
       "      <th>4272</th>\n",
       "      <td>9266_02</td>\n",
       "      <td>True</td>\n",
       "    </tr>\n",
       "    <tr>\n",
       "      <th>4273</th>\n",
       "      <td>9269_01</td>\n",
       "      <td>False</td>\n",
       "    </tr>\n",
       "    <tr>\n",
       "      <th>4274</th>\n",
       "      <td>9271_01</td>\n",
       "      <td>True</td>\n",
       "    </tr>\n",
       "    <tr>\n",
       "      <th>4275</th>\n",
       "      <td>9273_01</td>\n",
       "      <td>False</td>\n",
       "    </tr>\n",
       "    <tr>\n",
       "      <th>4276</th>\n",
       "      <td>9277_01</td>\n",
       "      <td>True</td>\n",
       "    </tr>\n",
       "  </tbody>\n",
       "</table>\n",
       "<p>4277 rows × 2 columns</p>\n",
       "</div>"
      ],
      "text/plain": [
       "     PassengerId  Transported\n",
       "0        0013_01         True\n",
       "1        0018_01        False\n",
       "2        0019_01         True\n",
       "3        0021_01        False\n",
       "4        0023_01        False\n",
       "...          ...          ...\n",
       "4272     9266_02         True\n",
       "4273     9269_01        False\n",
       "4274     9271_01         True\n",
       "4275     9273_01        False\n",
       "4276     9277_01         True\n",
       "\n",
       "[4277 rows x 2 columns]"
      ]
     },
     "execution_count": 98,
     "metadata": {},
     "output_type": "execute_result"
    }
   ],
   "source": [
    "final = pd.DataFrame(test_pred.numpy().ravel(), index=test_data.index, columns=['Transported']).reset_index()\n",
    "final['Transported'] = final['Transported'].astype(bool)\n",
    "final"
   ]
  },
  {
   "cell_type": "code",
   "execution_count": null,
   "metadata": {},
   "outputs": [],
   "source": [
    "# final.to_csv(r'C:\\Users\\User\\Desktop\\Projects\\Kaggle\\Kaggle_Practice\\spaceship_titanic\\results\\NN_MostFreq_impute_TotalExp_InGroup_LOOencoder.csv', index=False)"
   ]
  },
  {
   "cell_type": "markdown",
   "metadata": {},
   "source": [
    "# Save Model"
   ]
  },
  {
   "cell_type": "code",
   "execution_count": null,
   "metadata": {},
   "outputs": [],
   "source": [
    "# torch.save(model.state_dict(), r'C:\\Users\\User\\Desktop\\Projects\\Kaggle\\Kaggle_Practice\\spaceship_titanic\\models\\NN_LinDropLinDropLin_6multiplier')"
   ]
  },
  {
   "cell_type": "code",
   "execution_count": null,
   "metadata": {},
   "outputs": [],
   "source": []
  }
 ],
 "metadata": {
  "kernelspec": {
   "display_name": ".venv",
   "language": "python",
   "name": "python3"
  },
  "language_info": {
   "codemirror_mode": {
    "name": "ipython",
    "version": 3
   },
   "file_extension": ".py",
   "mimetype": "text/x-python",
   "name": "python",
   "nbconvert_exporter": "python",
   "pygments_lexer": "ipython3",
   "version": "3.12.2"
  }
 },
 "nbformat": 4,
 "nbformat_minor": 2
}
